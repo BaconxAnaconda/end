{
 "cells": [
  {
   "cell_type": "code",
   "execution_count": 1,
   "id": "e4a36b53",
   "metadata": {},
   "outputs": [],
   "source": [
    "#fonction pour supprimer les caractères en commun\n",
    "def remove_match_char(list1, list2):\n",
    "    for i in range(len(list1)) :\n",
    "        for j in range(len(list2)) :\n",
    "            if list1[i] == list2[j] :\n",
    "                c = list1[i]\n",
    "                list1.remove(c)\n",
    "                list2.remove(c)\n",
    "                list3 = list1 + [\"*\"] + list2\n",
    "                return [list3, True]\n",
    "    list3 = list1 + [\"*\"] + list2\n",
    "    return [list3, False]"
   ]
  },
  {
   "cell_type": "code",
   "execution_count": null,
   "id": "2d7d48a3",
   "metadata": {},
   "outputs": [],
   "source": []
  }
 ],
 "metadata": {
  "kernelspec": {
   "display_name": "Python 3",
   "language": "python",
   "name": "python3"
  },
  "language_info": {
   "codemirror_mode": {
    "name": "ipython",
    "version": 3
   },
   "file_extension": ".py",
   "mimetype": "text/x-python",
   "name": "python",
   "nbconvert_exporter": "python",
   "pygments_lexer": "ipython3",
   "version": "3.8.8"
  }
 },
 "nbformat": 4,
 "nbformat_minor": 5
}
